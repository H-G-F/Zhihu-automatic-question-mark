{
 "cells": [
  {
   "cell_type": "code",
   "execution_count": 1,
   "metadata": {},
   "outputs": [],
   "source": [
    "import pandas as pd\n",
    "import numpy as np\n",
    "import torch\n",
    "import torch.nn as nn\n",
    "import torch.nn.functional as F\n",
    "from torch.utils.data import Dataset, DataLoader\n",
    "from torch.optim import Adam\n",
    "from transformers import *\n",
    "from tqdm import tqdm\n",
    "import random\n",
    "import os\n",
    "import time"
   ]
  },
  {
   "cell_type": "code",
   "execution_count": 2,
   "metadata": {},
   "outputs": [],
   "source": [
    "train = pd.read_csv('train.csv')\n",
    "test = pd.read_csv('test.csv')"
   ]
  },
  {
   "cell_type": "code",
   "execution_count": 3,
   "metadata": {},
   "outputs": [
    {
     "data": {
      "text/html": [
       "<div>\n",
       "<style scoped>\n",
       "    .dataframe tbody tr th:only-of-type {\n",
       "        vertical-align: middle;\n",
       "    }\n",
       "\n",
       "    .dataframe tbody tr th {\n",
       "        vertical-align: top;\n",
       "    }\n",
       "\n",
       "    .dataframe thead th {\n",
       "        text-align: right;\n",
       "    }\n",
       "</style>\n",
       "<table border=\"1\" class=\"dataframe\">\n",
       "  <thead>\n",
       "    <tr style=\"text-align: right;\">\n",
       "      <th></th>\n",
       "      <th>question_id</th>\n",
       "      <th>question_title</th>\n",
       "      <th>question_detail</th>\n",
       "      <th>tag_ids</th>\n",
       "    </tr>\n",
       "  </thead>\n",
       "  <tbody>\n",
       "    <tr>\n",
       "      <th>0</th>\n",
       "      <td>0</td>\n",
       "      <td>为什么有的孩子就比同龄的孩子机灵，知道该讨好谁，知道谁比较好说话啊？还知道怎样做不会惹老师生气？</td>\n",
       "      <td>小学的孩子，知道看眉眼高低，懂得老师生气的时候就尽量躲着点？问过家长在家有没有特别教过，家长...</td>\n",
       "      <td>967|8922|240|396</td>\n",
       "    </tr>\n",
       "    <tr>\n",
       "      <th>1</th>\n",
       "      <td>1</td>\n",
       "      <td>怎么看待男朋友说玩游戏顺手带妹？</td>\n",
       "      <td>跟男朋友谈了一年左右，刚开始知道他喜欢玩游戏，他说他不带妹，后来暑假刚开始，他疯狂的泡在游戏...</td>\n",
       "      <td>69|109</td>\n",
       "    </tr>\n",
       "    <tr>\n",
       "      <th>2</th>\n",
       "      <td>2</td>\n",
       "      <td>武林人士退隐江湖之后会过着怎样的生活？</td>\n",
       "      <td>欢迎各种脑洞~</td>\n",
       "      <td>35|211|230|61|1157</td>\n",
       "    </tr>\n",
       "    <tr>\n",
       "      <th>3</th>\n",
       "      <td>3</td>\n",
       "      <td>“一见倾心，再见依然。”这个句子的唯美英文翻译？求大神解答！</td>\n",
       "      <td>NaN</td>\n",
       "      <td>475|15392|2163</td>\n",
       "    </tr>\n",
       "    <tr>\n",
       "      <th>4</th>\n",
       "      <td>4</td>\n",
       "      <td>如何看待加拿大国际数学奥林匹克竞赛团队都是华人？</td>\n",
       "      <td></td>\n",
       "      <td>6803|446|3216|4079|930</td>\n",
       "    </tr>\n",
       "  </tbody>\n",
       "</table>\n",
       "</div>"
      ],
      "text/plain": [
       "   question_id                                    question_title  \\\n",
       "0            0  为什么有的孩子就比同龄的孩子机灵，知道该讨好谁，知道谁比较好说话啊？还知道怎样做不会惹老师生气？   \n",
       "1            1                                  怎么看待男朋友说玩游戏顺手带妹？   \n",
       "2            2                               武林人士退隐江湖之后会过着怎样的生活？   \n",
       "3            3                    “一见倾心，再见依然。”这个句子的唯美英文翻译？求大神解答！   \n",
       "4            4                          如何看待加拿大国际数学奥林匹克竞赛团队都是华人？   \n",
       "\n",
       "                                     question_detail                 tag_ids  \n",
       "0  小学的孩子，知道看眉眼高低，懂得老师生气的时候就尽量躲着点？问过家长在家有没有特别教过，家长...        967|8922|240|396  \n",
       "1  跟男朋友谈了一年左右，刚开始知道他喜欢玩游戏，他说他不带妹，后来暑假刚开始，他疯狂的泡在游戏...                  69|109  \n",
       "2                                            欢迎各种脑洞~      35|211|230|61|1157  \n",
       "3                                                NaN          475|15392|2163  \n",
       "4                                                     6803|446|3216|4079|930  "
      ]
     },
     "execution_count": 3,
     "metadata": {},
     "output_type": "execute_result"
    }
   ],
   "source": [
    "train.head()"
   ]
  },
  {
   "cell_type": "code",
   "execution_count": 4,
   "metadata": {},
   "outputs": [],
   "source": [
    "num_classes = 25551\n",
    "model_path = 'hfl/chinese-bert-wwm-ext'"
   ]
  },
  {
   "cell_type": "code",
   "execution_count": 5,
   "metadata": {},
   "outputs": [],
   "source": [
    "tokenizer = BertTokenizer.from_pretrained(model_path)"
   ]
  },
  {
   "cell_type": "code",
   "execution_count": 6,
   "metadata": {},
   "outputs": [],
   "source": [
    "class MyDataset(Dataset):\n",
    "    def __init__(self, dataframe, maxlen=256, test=False):\n",
    "        self.df = dataframe\n",
    "        self.maxlen = maxlen\n",
    "        self.test = test\n",
    "    \n",
    "    def __len__(self):\n",
    "        return len(self.df)\n",
    "    \n",
    "    def __getitem__(self, idx):\n",
    "        text = str(self.df.question_title.values[idx]) + str(self.df.question_detail.values[idx])\n",
    "\n",
    "        encoding = tokenizer(text,padding='max_length',truncation=True,max_length=self.maxlen,return_tensors='pt')\n",
    "        \n",
    "        input_ids = encoding['input_ids'][0]\n",
    "        attention_mask = encoding['attention_mask'][0]\n",
    "        \n",
    "        if self.test:\n",
    "            return input_ids, attention_mask\n",
    "        else:\n",
    "            tags = self.df.tag_ids.values[idx].split('|')\n",
    "            tags = [int(x)-1 for x in tags]\n",
    "            label = torch.zeros((num_classes,))\n",
    "            label[tags] = 1\n",
    "\n",
    "            return input_ids, attention_mask, label"
   ]
  },
  {
   "cell_type": "code",
   "execution_count": 7,
   "metadata": {},
   "outputs": [],
   "source": [
    "train_set = MyDataset(train)\n",
    "test_set = MyDataset(test,test=True)"
   ]
  },
  {
   "cell_type": "code",
   "execution_count": 8,
   "metadata": {},
   "outputs": [],
   "source": [
    "train_loader = DataLoader(train_set, batch_size=16, shuffle=True)\n",
    "test_loader = DataLoader(test_set, batch_size=16, shuffle=False)"
   ]
  },
  {
   "cell_type": "code",
   "execution_count": 9,
   "metadata": {},
   "outputs": [],
   "source": [
    "class Model(nn.Module):\n",
    "    def __init__(self, ):\n",
    "        super(Model, self).__init__()\n",
    "        self.bert = BertModel.from_pretrained(model_path)\n",
    "        self.fc = nn.Linear(self.bert.config.hidden_size, num_classes)\n",
    "        \n",
    "    def forward(self, input_ids, attention_mask):\n",
    "        output = self.bert(input_ids, attention_mask=attention_mask)[-1]\n",
    "        output = self.fc(output)\n",
    "        output = torch.sigmoid(output)\n",
    "        return output"
   ]
  },
  {
   "cell_type": "code",
   "execution_count": 10,
   "metadata": {},
   "outputs": [],
   "source": [
    "class AverageMeter:\n",
    "    def __init__(self):\n",
    "        self.reset()\n",
    "\n",
    "    def reset(self):\n",
    "        self.val = 0\n",
    "        self.avg = 0\n",
    "        self.sum = 0\n",
    "        self.count = 0\n",
    "\n",
    "    def update(self, val, n=1):\n",
    "        self.val = val\n",
    "        self.sum += val * n\n",
    "        self.count += n\n",
    "        self.avg = self.sum / self.count\n",
    "        \n",
    "        \n",
    "def train_model(model, train_loader):\n",
    "    model.train() \n",
    "    \n",
    "    losses = AverageMeter()\n",
    "    \n",
    "    optimizer.zero_grad()\n",
    "    \n",
    "    tk = tqdm(train_loader, total=len(train_loader), position=0, leave=True)\n",
    "    \n",
    "    for idx, (input_ids, attention_mask, y) in enumerate(tk):\n",
    "        input_ids, attention_mask, y = input_ids.cuda(), attention_mask.cuda(), y.cuda()\n",
    "\n",
    "        output = model(input_ids, attention_mask)\n",
    "\n",
    "        loss = criterion(output, y) \n",
    "        loss.backward()\n",
    "\n",
    "        optimizer.step() \n",
    "        optimizer.zero_grad() \n",
    "\n",
    "        losses.update(loss.item(), y.size(0))\n",
    "\n",
    "        tk.set_postfix(loss=losses.avg)\n",
    "        \n",
    "    return losses.avg"
   ]
  },
  {
   "cell_type": "code",
   "execution_count": 11,
   "metadata": {},
   "outputs": [],
   "source": [
    "model = Model().cuda()"
   ]
  },
  {
   "cell_type": "code",
   "execution_count": 12,
   "metadata": {},
   "outputs": [],
   "source": [
    "optimizer = torch.optim.AdamW(model.parameters(), lr=1e-5, weight_decay=1e-4)\n",
    "criterion = nn.BCELoss()"
   ]
  },
  {
   "cell_type": "code",
   "execution_count": null,
   "metadata": {},
   "outputs": [],
   "source": [
    "for epoch in range(50):\n",
    "    train_loss = train_model(model, train_loader)\n",
    "    torch.save(model.state_dict(), 'model.pt')"
   ]
  },
  {
   "cell_type": "code",
   "execution_count": null,
   "metadata": {},
   "outputs": [],
   "source": [
    "result = []\n",
    "\n",
    "model.eval() \n",
    "    \n",
    "tk = tqdm(test_loader, total=len(test_loader), position=0, leave=True)\n",
    "\n",
    "with torch.no_grad():\n",
    "    \n",
    "    for idx, (input_ids, attention_mask) in enumerate(tk):\n",
    "        input_ids, attention_mask = input_ids.cuda(), attention_mask.cuda()\n",
    "\n",
    "        output = model(input_ids, attention_mask)\n",
    "        \n",
    "        for res in output: #后处理，找大于0.5的类别（阈值可以微调），如果多了就取TOP5，如果没有就取TOP1\n",
    "            _,res1 = torch.topk(res,5)\n",
    "            res1 = res1.cpu().numpy()\n",
    "            \n",
    "            res2 = torch.where(res>0.5)[0]\n",
    "            res2 = res2.cpu().numpy()\n",
    "            \n",
    "            if len(res2) > 5:\n",
    "                result.append(res1)\n",
    "            elif len(res2) == 0:\n",
    "                result.append(res1[0])\n",
    "            else:\n",
    "                result.append(res2)"
   ]
  },
  {
   "cell_type": "code",
   "execution_count": null,
   "metadata": {},
   "outputs": [],
   "source": [
    "with open('submission.csv','w')as f:\n",
    "    for i in range(len(result)):\n",
    "        f.write(str(i)+',')\n",
    "        res = [str(x+1) for x in result[i]]\n",
    "        if len(res)<5:\n",
    "            res += ['-1']*(5-len(res))\n",
    "        f.write(','.join(res))\n",
    "        f.write('\\n')"
   ]
  },
  {
   "cell_type": "code",
   "execution_count": null,
   "metadata": {},
   "outputs": [],
   "source": []
  }
 ],
 "metadata": {
  "kernelspec": {
   "display_name": "Python 3",
   "language": "python",
   "name": "python3"
  },
  "language_info": {
   "codemirror_mode": {
    "name": "ipython",
    "version": 3
   },
   "file_extension": ".py",
   "mimetype": "text/x-python",
   "name": "python",
   "nbconvert_exporter": "python",
   "pygments_lexer": "ipython3",
   "version": "3.6.9"
  }
 },
 "nbformat": 4,
 "nbformat_minor": 2
}
